{
  "nbformat": 4,
  "nbformat_minor": 0,
  "metadata": {
    "colab": {
      "provenance": [],
      "authorship_tag": "ABX9TyNrs1nQYg9CTViGqskheO0z",
      "include_colab_link": true
    },
    "kernelspec": {
      "name": "python3",
      "display_name": "Python 3"
    },
    "language_info": {
      "name": "python"
    }
  },
  "cells": [
    {
      "cell_type": "markdown",
      "metadata": {
        "id": "view-in-github",
        "colab_type": "text"
      },
      "source": [
        "<a href=\"https://colab.research.google.com/github/Atla33/Av1_Mineracao_de_Dados/blob/main/AV1__Minera%C3%A7%C3%A3o.ipynb\" target=\"_parent\"><img src=\"https://colab.research.google.com/assets/colab-badge.svg\" alt=\"Open In Colab\"/></a>"
      ]
    },
    {
      "cell_type": "markdown",
      "source": [
        "# 1- Sobre compressão de atributos por meio da análise dos componentes principais (Principal Component Analysis – PCA), considere a base de dados escolhida para trabalhar ao longo desta disciplina (caso prefira, pode ser uma nova base). Apresente, por meio de gráfico, a relação entre o 1º e o 2º componente principal da base de dados. Após a plotagem do gráfico, observe se há uma separação linear entre dois grupos de objetos que pode contribuir para o melhor desempenho dos algoritmos de mineração de dados. Descreva sua análise.\n"
      ],
      "metadata": {
        "id": "__OQQwYZ5L-I"
      }
    },
    {
      "cell_type": "code",
      "execution_count": null,
      "metadata": {
        "id": "F6hCX_n-2D5m"
      },
      "outputs": [],
      "source": [
        "#Importar as bibliotecas necessárias\n",
        "import pandas as pd\n",
        "from sklearn.preprocessing import StandardScaler\n",
        "from sklearn.decomposition import PCA\n",
        "import matplotlib.pyplot as plt"
      ]
    },
    {
      "cell_type": "code",
      "source": [
        "#Carregar os dados e definir os nomes das colunas\n",
        "url = \"https://archive.ics.uci.edu/ml/machine-learning-databases/iris/bezdekIris.data\"\n",
        "col_names = ['sepal_length', 'sepal_width', 'petal_length', 'petal_width', 'class']\n",
        "iris_data = pd.read_csv(url, header=None, names=col_names)"
      ],
      "metadata": {
        "id": "6V8dujqcXR0z"
      },
      "execution_count": null,
      "outputs": []
    },
    {
      "cell_type": "code",
      "source": [
        "#Exibir a tabela de dados\n",
        "print(iris_data)"
      ],
      "metadata": {
        "colab": {
          "base_uri": "https://localhost:8080/"
        },
        "id": "ud32pbAwXWsF",
        "outputId": "2d5fb557-a426-4020-eba3-c3010b58f311"
      },
      "execution_count": null,
      "outputs": [
        {
          "output_type": "stream",
          "name": "stdout",
          "text": [
            "     sepal_length  sepal_width  petal_length  petal_width           class\n",
            "0             5.1          3.5           1.4          0.2     Iris-setosa\n",
            "1             4.9          3.0           1.4          0.2     Iris-setosa\n",
            "2             4.7          3.2           1.3          0.2     Iris-setosa\n",
            "3             4.6          3.1           1.5          0.2     Iris-setosa\n",
            "4             5.0          3.6           1.4          0.2     Iris-setosa\n",
            "..            ...          ...           ...          ...             ...\n",
            "145           6.7          3.0           5.2          2.3  Iris-virginica\n",
            "146           6.3          2.5           5.0          1.9  Iris-virginica\n",
            "147           6.5          3.0           5.2          2.0  Iris-virginica\n",
            "148           6.2          3.4           5.4          2.3  Iris-virginica\n",
            "149           5.9          3.0           5.1          1.8  Iris-virginica\n",
            "\n",
            "[150 rows x 5 columns]\n"
          ]
        }
      ]
    },
    {
      "cell_type": "code",
      "source": [
        "x = iris_data.iloc[:, :-1].values\n",
        "y = iris_data.iloc[:, -1].values"
      ],
      "metadata": {
        "id": "g9U8pkSFXuSO"
      },
      "execution_count": null,
      "outputs": []
    },
    {
      "cell_type": "code",
      "source": [
        "scaler = StandardScaler()\n",
        "x = scaler.fit_transform(x)"
      ],
      "metadata": {
        "id": "cVvpnknGk2ay"
      },
      "execution_count": null,
      "outputs": []
    },
    {
      "cell_type": "code",
      "source": [
        "pca = PCA(n_components=2)\n",
        "x_pca = pca.fit_transform(x)"
      ],
      "metadata": {
        "id": "NWiocbAjk4W6"
      },
      "execution_count": null,
      "outputs": []
    },
    {
      "cell_type": "code",
      "source": [
        "pca_df = pd.DataFrame(data=x_pca, columns=['PC1', 'PC2'])\n",
        "pca_df['class'] = y\n"
      ],
      "metadata": {
        "id": "9NHrW5Aek6AC"
      },
      "execution_count": null,
      "outputs": []
    },
    {
      "cell_type": "code",
      "source": [
        "fig, ax = plt.subplots()\n",
        "colors = {'Iris-setosa':'red', 'Iris-versicolor':'blue', 'Iris-virginica':'green'}\n",
        "ax.scatter(pca_df['PC1'], pca_df['PC2'], c=pca_df['class'].apply(lambda x: colors[x]))\n",
        "ax.set_xlabel('Primeiro Componente Principal')\n",
        "ax.set_ylabel('Segundo Componente Principal')\n",
        "ax.set_title('PCA da base de dados Iris')\n",
        "plt.show()\n"
      ],
      "metadata": {
        "colab": {
          "base_uri": "https://localhost:8080/",
          "height": 472
        },
        "id": "A2g8dvt3k7dC",
        "outputId": "3e78dbb3-7693-44a8-9a04-2fb886574ee1"
      },
      "execution_count": null,
      "outputs": [
        {
          "output_type": "display_data",
          "data": {
            "text/plain": [
              "<Figure size 640x480 with 1 Axes>"
            ],
            "image/png": "[encoded data removed]"
          },
          "metadata": {}
        }
      ]
    },
    {
      "cell_type": "markdown",
      "source": [
        "# Após a plotagem do gráfico, observe se há uma separação linear entre dois grupos de objetos que pode contribuir para o melhor desempenho dos algoritmos de mineração de dados. Descreva sua análise.\n",
        "\n",
        "### Resposta: Sim, podemos observar que existem dois grupos de objetos que parecem estar parcialmente separados linearmente. Esses grupos podem ser os grupos correspondentes a duas das três espécies de íris presentes na base de dados: Iris setosa e Iris versicolor.\n",
        "\n",
        "### A separação linear dos grupos pode contribuir para o melhor desempenho dos algoritmos de mineração de dados, pois pode permitir a identificação mais precisa das espécies de íris com base em suas características medidas, como o comprimento e a largura das sépalas e pétalas. No entanto, é importante notar que a separação não é perfeita e há uma sobreposição considerável entre os grupos, o que pode dificultar a classificação precisa de algumas instâncias. Além disso, a separação pode não ser suficiente para distinguir adequadamente as três espécies de íris, que podem ter variações significativas dentro de cada grupo."
      ],
      "metadata": {
        "id": "TGW4W7XP5bJ4"
      }
    },
    {
      "cell_type": "markdown",
      "source": [
        "# Quetão 2\n",
        "\n",
        "O conjunto de dados da Tabela abaixo, chamado Fidelização, trata de uma tentativa de obter dados das visitas dos clientes ao restaurante com o propósito de descobrir se existem fatores que contribuem para um cliente se fidelizar ao estabelecimento ou não. Os atributos descritivos de cada situação dizem respeito a diferentes tipos de avaliação realizadas em uma visita ao restaurante.\n"
      ],
      "metadata": {
        "id": "RnGYmxh51vuC"
      }
    },
    {
      "cell_type": "markdown",
      "source": [
        "Logo abaixo está a resposta das letras A e C:\n",
        "\n",
        "a- Realize uma análise exploratória dos dados de forma a verificar se\n",
        "conclusões sobre fidelização podem ser tiradas a partir dessa análise. Em\n",
        "sua análise, verifique as medidas de posição e separatrizes, medidas de\n",
        "dispersão, projete gráficos do tipo histograma e boxplot e realize análise\n",
        "de correlação.\n",
        "\n",
        "c- Prepare um programa em qualquer linguagem de programação que\n",
        "apresente as medidas e gráficos obtidos na análise exploratória e um\n",
        "novo conjunto de dados (pré-processado) mais adequado para ser\n",
        "minerado.\n",
        "\n"
      ],
      "metadata": {
        "id": "aGu0BoL4lOca"
      }
    },
    {
      "cell_type": "markdown",
      "source": [
        "# Importação das bibliotecas "
      ],
      "metadata": {
        "id": "YwfzEh7HEJbm"
      }
    },
    {
      "cell_type": "code",
      "source": [
        "import pandas as pd\n",
        "import seaborn as sns\n",
        "import matplotlib.pyplot as plt\n",
        "import numpy as np\n",
        "from sklearn.decomposition import PCA\n",
        "import matplotlib.pyplot as plt\n",
        "from sklearn.preprocessing import StandardScaler"
      ],
      "metadata": {
        "id": "L160_cyfH7mx"
      },
      "execution_count": null,
      "outputs": []
    },
    {
      "cell_type": "markdown",
      "source": [
        "# Lendo Data Base:"
      ],
      "metadata": {
        "id": "6XJOEhrBEQB2"
      }
    },
    {
      "cell_type": "code",
      "source": [
        "url = '/content/Restaurante (1).csv'\n",
        "dados = pd.read_csv(url)"
      ],
      "metadata": {
        "id": "nH0LEOGLCsbf"
      },
      "execution_count": null,
      "outputs": []
    },
    {
      "cell_type": "markdown",
      "source": [
        "# Data Base"
      ],
      "metadata": {
        "id": "5Ut5vOn4EhRd"
      }
    },
    {
      "cell_type": "code",
      "source": [
        "# exibe o dataframe\n",
        "dados"
      ],
      "metadata": {
        "colab": {
          "base_uri": "https://localhost:8080/",
          "height": 426
        },
        "id": "pSVwLVUbC1Hv",
        "outputId": "f518a8c9-5332-4047-edbf-b3f8b52145da"
      },
      "execution_count": null,
      "outputs": [
        {
          "output_type": "execute_result",
          "data": {
            "text/plain": [
              "    AVALIAÇÃO 1  AVALIAÇÃO 2  AVALIAÇÃO 3        Situação\n",
              "0          9.69        22.91         2.36      Fidelizado\n",
              "1          5.54        28.64         5.17      Fidelizado\n",
              "2           NaN        22.91          NaN      Fidelizado\n",
              "3         12.46        40.09         3.22      Fidelizado\n",
              "4         11.07        17.18         1.55      Fidelizado\n",
              "5          8.30        57.27         6.90      Fidelizado\n",
              "6          2.77        34.36        12.41  Não fidelizado\n",
              "7          5.54        17.18         6.01  Não fidelizado\n",
              "8           NaN        11.45          NaN  Não fidelizado\n",
              "9          8.30          NaN          NaN  Não fidelizado\n",
              "10         6.92         5.73         4.88  Não fidelizado\n",
              "11        13.84        11.45         0.83  Não fidelizado"
            ],
            "text/html": [
              "\n",
              "  <div id=\"df-865d4fb1-2484-4d23-9810-1283b2484f56\">\n",
              "    <div class=\"colab-df-container\">\n",
              "      <div>\n",
              "<style scoped>\n",
              "    .dataframe tbody tr th:only-of-type {\n",
              "        vertical-align: middle;\n",
              "    }\n",
              "\n",
              "    .dataframe tbody tr th {\n",
              "        vertical-align: top;\n",
              "    }\n",
              "\n",
              "    .dataframe thead th {\n",
              "        text-align: right;\n",
              "    }\n",
              "</style>\n",
              "<table border=\"1\" class=\"dataframe\">\n",
              "  <thead>\n",
              "    <tr style=\"text-align: right;\">\n",
              "      <th></th>\n",
              "      <th>AVALIAÇÃO 1</th>\n",
              "      <th>AVALIAÇÃO 2</th>\n",
              "      <th>AVALIAÇÃO 3</th>\n",
              "      <th>Situação</th>\n",
              "    </tr>\n",
              "  </thead>\n",
              "  <tbody>\n",
              "    <tr>\n",
              "      <th>0</th>\n",
              "      <td>9.69</td>\n",
              "      <td>22.91</td>\n",
              "      <td>2.36</td>\n",
              "      <td>Fidelizado</td>\n",
              "    </tr>\n",
              "    <tr>\n",
              "      <th>1</th>\n",
              "      <td>5.54</td>\n",
              "      <td>28.64</td>\n",
              "      <td>5.17</td>\n",
              "      <td>Fidelizado</td>\n",
              "    </tr>\n",
              "    <tr>\n",
              "      <th>2</th>\n",
              "      <td>NaN</td>\n",
              "      <td>22.91</td>\n",
              "      <td>NaN</td>\n",
              "      <td>Fidelizado</td>\n",
              "    </tr>\n",
              "    <tr>\n",
              "      <th>3</th>\n",
              "      <td>12.46</td>\n",
              "      <td>40.09</td>\n",
              "      <td>3.22</td>\n",
              "      <td>Fidelizado</td>\n",
              "    </tr>\n",
              "    <tr>\n",
              "      <th>4</th>\n",
              "      <td>11.07</td>\n",
              "      <td>17.18</td>\n",
              "      <td>1.55</td>\n",
              "      <td>Fidelizado</td>\n",
              "    </tr>\n",
              "    <tr>\n",
              "      <th>5</th>\n",
              "      <td>8.30</td>\n",
              "      <td>57.27</td>\n",
              "      <td>6.90</td>\n",
              "      <td>Fidelizado</td>\n",
              "    </tr>\n",
              "    <tr>\n",
              "      <th>6</th>\n",
              "      <td>2.77</td>\n",
              "      <td>34.36</td>\n",
              "      <td>12.41</td>\n",
              "      <td>Não fidelizado</td>\n",
              "    </tr>\n",
              "    <tr>\n",
              "      <th>7</th>\n",
              "      <td>5.54</td>\n",
              "      <td>17.18</td>\n",
              "      <td>6.01</td>\n",
              "      <td>Não fidelizado</td>\n",
              "    </tr>\n",
              "    <tr>\n",
              "      <th>8</th>\n",
              "      <td>NaN</td>\n",
              "      <td>11.45</td>\n",
              "      <td>NaN</td>\n",
              "      <td>Não fidelizado</td>\n",
              "    </tr>\n",
              "    <tr>\n",
              "      <th>9</th>\n",
              "      <td>8.30</td>\n",
              "      <td>NaN</td>\n",
              "      <td>NaN</td>\n",
              "      <td>Não fidelizado</td>\n",
              "    </tr>\n",
              "    <tr>\n",
              "      <th>10</th>\n",
              "      <td>6.92</td>\n",
              "      <td>5.73</td>\n",
              "      <td>4.88</td>\n",
              "      <td>Não fidelizado</td>\n",
              "    </tr>\n",
              "    <tr>\n",
              "      <th>11</th>\n",
              "      <td>13.84</td>\n",
              "      <td>11.45</td>\n",
              "      <td>0.83</td>\n",
              "      <td>Não fidelizado</td>\n",
              "    </tr>\n",
              "  </tbody>\n",
              "</table>\n",
              "</div>\n",
              "      <button class=\"colab-df-convert\" onclick=\"convertToInteractive('df-865d4fb1-2484-4d23-9810-1283b2484f56')\"\n",
              "              title=\"Convert this dataframe to an interactive table.\"\n",
              "              style=\"display:none;\">\n",
              "        \n",
              "  <svg xmlns=\"http://www.w3.org/2000/svg\" height=\"24px\"viewBox=\"0 0 24 24\"\n",
              "       width=\"24px\">\n",
              "    <path d=\"M0 0h24v24H0V0z\" fill=\"none\"/>\n",
              "    <path d=\"M18.56 5.44l.94 2.06.94-2.06 2.06-.94-2.06-.94-.94-2.06-.94 2.06-2.06.94zm-11 1L8.5 8.5l.94-2.06 2.06-.94-2.06-.94L8.5 2.5l-.94 2.06-2.06.94zm10 10l.94 2.06.94-2.06 2.06-.94-2.06-.94-.94-2.06-.94 2.06-2.06.94z\"/><path d=\"M17.41 7.96l-1.37-1.37c-.4-.4-.92-.59-1.43-.59-.52 0-1.04.2-1.43.59L10.3 9.45l-7.72 7.72c-.78.78-.78 2.05 0 2.83L4 21.41c.39.39.9.59 1.41.59.51 0 1.02-.2 1.41-.59l7.78-7.78 2.81-2.81c.8-.78.8-2.07 0-2.86zM5.41 20L4 18.59l7.72-7.72 1.47 1.35L5.41 20z\"/>\n",
              "  </svg>\n",
              "      </button>\n",
              "      \n",
              "  <style>\n",
              "    .colab-df-container {\n",
              "      display:flex;\n",
              "      flex-wrap:wrap;\n",
              "      gap: 12px;\n",
              "    }\n",
              "\n",
              "    .colab-df-convert {\n",
              "      background-color: #E8F0FE;\n",
              "      border: none;\n",
              "      border-radius: 50%;\n",
              "      cursor: pointer;\n",
              "      display: none;\n",
              "      fill: #1967D2;\n",
              "      height: 32px;\n",
              "      padding: 0 0 0 0;\n",
              "      width: 32px;\n",
              "    }\n",
              "\n",
              "    .colab-df-convert:hover {\n",
              "      background-color: #E2EBFA;\n",
              "      box-shadow: 0px 1px 2px rgba(60, 64, 67, 0.3), 0px 1px 3px 1px rgba(60, 64, 67, 0.15);\n",
              "      fill: #174EA6;\n",
              "    }\n",
              "\n",
              "    [theme=dark] .colab-df-convert {\n",
              "      background-color: #3B4455;\n",
              "      fill: #D2E3FC;\n",
              "    }\n",
              "\n",
              "    [theme=dark] .colab-df-convert:hover {\n",
              "      background-color: #434B5C;\n",
              "      box-shadow: 0px 1px 3px 1px rgba(0, 0, 0, 0.15);\n",
              "      filter: drop-shadow(0px 1px 2px rgba(0, 0, 0, 0.3));\n",
              "      fill: #FFFFFF;\n",
              "    }\n",
              "  </style>\n",
              "\n",
              "      <script>\n",
              "        const buttonEl =\n",
              "          document.querySelector('#df-865d4fb1-2484-4d23-9810-1283b2484f56 button.colab-df-convert');\n",
              "        buttonEl.style.display =\n",
              "          google.colab.kernel.accessAllowed ? 'block' : 'none';\n",
              "\n",
              "        async function convertToInteractive(key) {\n",
              "          const element = document.querySelector('#df-865d4fb1-2484-4d23-9810-1283b2484f56');\n",
              "          const dataTable =\n",
              "            await google.colab.kernel.invokeFunction('convertToInteractive',\n",
              "                                                     [key], {});\n",
              "          if (!dataTable) return;\n",
              "\n",
              "          const docLinkHtml = 'Like what you see? Visit the ' +\n",
              "            '<a target=\"_blank\" href=https://colab.research.google.com/notebooks/data_table.ipynb>data table notebook</a>'\n",
              "            + ' to learn more about interactive tables.';\n",
              "          element.innerHTML = '';\n",
              "          dataTable['output_type'] = 'display_data';\n",
              "          await google.colab.output.renderOutput(dataTable, element);\n",
              "          const docLink = document.createElement('div');\n",
              "          docLink.innerHTML = docLinkHtml;\n",
              "          element.appendChild(docLink);\n",
              "        }\n",
              "      </script>\n",
              "    </div>\n",
              "  </div>\n",
              "  "
            ]
          },
          "metadata": {},
          "execution_count": 5
        }
      ]
    },
    {
      "cell_type": "markdown",
      "source": [
        "Através de 12 amostras e 3 atributos de notas implícitas, podemos tentar ver a correlação com o atributo chave deste questionário “situação do cliente”. Um gerente de estabelecimento usará esse atributo para melhorar o serviço do restaurante."
      ],
      "metadata": {
        "id": "iy4GJV5xDf8_"
      }
    },
    {
      "cell_type": "markdown",
      "source": [
        "## Substituição de \",\" por \".\":"
      ],
      "metadata": {
        "id": "m5-iECX6EquF"
      }
    },
    {
      "cell_type": "code",
      "source": [
        "# substituindo as vírgulas por pontos em todas as colunas\n",
        "dados = dados.replace(\",\", \".\", regex=True)"
      ],
      "metadata": {
        "id": "d3yh3bzKDpF3"
      },
      "execution_count": null,
      "outputs": []
    },
    {
      "cell_type": "markdown",
      "source": [
        "## Substituição de \"??\" por \"NaN\":"
      ],
      "metadata": {
        "id": "eXjHaoN-Ew1X"
      }
    },
    {
      "cell_type": "code",
      "source": [
        "# Substituindo os valores ausentes por NaN\n",
        "dados = dados.replace(\"??\", np.nan)"
      ],
      "metadata": {
        "id": "NWYLRr0zDrG-"
      },
      "execution_count": null,
      "outputs": []
    },
    {
      "cell_type": "markdown",
      "source": [
        "## Substituido o Tipo de alguns Atributos:"
      ],
      "metadata": {
        "id": "R3h39PaGE8kP"
      }
    },
    {
      "cell_type": "code",
      "source": [
        "# Convertendo as colunas de avaliação para valores float\n",
        "dados[[\"AVALIAÇÃO 1\", \"AVALIAÇÃO 2\", \"AVALIAÇÃO 3\"]] = dados[[\"AVALIAÇÃO 1\", \"AVALIAÇÃO 2\", \"AVALIAÇÃO 3\"]].astype(float)"
      ],
      "metadata": {
        "id": "v3avU8nLD0h_"
      },
      "execution_count": null,
      "outputs": []
    },
    {
      "cell_type": "markdown",
      "source": [
        "## Nomeando as Colunas:"
      ],
      "metadata": {
        "id": "ArJes6bgFNXX"
      }
    },
    {
      "cell_type": "code",
      "source": [
        "dados.rename(columns={\"AVALIAÇÃO 1\": \"Nota 1\", \"AVALIAÇÃO 2\": 'Nota 2', \"AVALIAÇÃO 3\": \"Nota 3\"}, inplace=True)"
      ],
      "metadata": {
        "id": "9NS0c4XvD4mW"
      },
      "execution_count": null,
      "outputs": []
    },
    {
      "cell_type": "markdown",
      "source": [
        "Quando percebi que o banco de dados tinha muitos pontos de falha, um deles era a nomenclatura das propriedades, renomeei-os como \"notas\". 1-3 pontos, respectivamente, tratam da avaliação do cliente.texto em itálico"
      ],
      "metadata": {
        "id": "sBYDX8B-EExO"
      }
    },
    {
      "cell_type": "markdown",
      "source": [
        "## Filtrando o data base:"
      ],
      "metadata": {
        "id": "qJx05MbPFjEH"
      }
    },
    {
      "cell_type": "code",
      "source": [
        "dados = dados[dados[\"Nota 2\"] < 23].reset_index(drop=True)\n",
        "dados"
      ],
      "metadata": {
        "colab": {
          "base_uri": "https://localhost:8080/",
          "height": 269
        },
        "id": "6-Thk0TeFmBn",
        "outputId": "f342fcc0-2d69-42c3-c030-10bd20da9e2b"
      },
      "execution_count": null,
      "outputs": [
        {
          "output_type": "execute_result",
          "data": {
            "text/plain": [
              "   Nota 1  Nota 2  Nota 3        Situação\n",
              "0    9.69   22.91    2.36      Fidelizado\n",
              "1     NaN   22.91     NaN      Fidelizado\n",
              "2   11.07   17.18    1.55      Fidelizado\n",
              "3    5.54   17.18    6.01  Não fidelizado\n",
              "4     NaN   11.45     NaN  Não fidelizado\n",
              "5    6.92    5.73    4.88  Não fidelizado\n",
              "6   13.84   11.45    0.83  Não fidelizado"
            ],
            "text/html": [
              "\n",
              "  <div id=\"df-2a76da38-35c0-44be-8a97-a10ee376c69d\">\n",
              "    <div class=\"colab-df-container\">\n",
              "      <div>\n",
              "<style scoped>\n",
              "    .dataframe tbody tr th:only-of-type {\n",
              "        vertical-align: middle;\n",
              "    }\n",
              "\n",
              "    .dataframe tbody tr th {\n",
              "        vertical-align: top;\n",
              "    }\n",
              "\n",
              "    .dataframe thead th {\n",
              "        text-align: right;\n",
              "    }\n",
              "</style>\n",
              "<table border=\"1\" class=\"dataframe\">\n",
              "  <thead>\n",
              "    <tr style=\"text-align: right;\">\n",
              "      <th></th>\n",
              "      <th>Nota 1</th>\n",
              "      <th>Nota 2</th>\n",
              "      <th>Nota 3</th>\n",
              "      <th>Situação</th>\n",
              "    </tr>\n",
              "  </thead>\n",
              "  <tbody>\n",
              "    <tr>\n",
              "      <th>0</th>\n",
              "      <td>9.69</td>\n",
              "      <td>22.91</td>\n",
              "      <td>2.36</td>\n",
              "      <td>Fidelizado</td>\n",
              "    </tr>\n",
              "    <tr>\n",
              "      <th>1</th>\n",
              "      <td>NaN</td>\n",
              "      <td>22.91</td>\n",
              "      <td>NaN</td>\n",
              "      <td>Fidelizado</td>\n",
              "    </tr>\n",
              "    <tr>\n",
              "      <th>2</th>\n",
              "      <td>11.07</td>\n",
              "      <td>17.18</td>\n",
              "      <td>1.55</td>\n",
              "      <td>Fidelizado</td>\n",
              "    </tr>\n",
              "    <tr>\n",
              "      <th>3</th>\n",
              "      <td>5.54</td>\n",
              "      <td>17.18</td>\n",
              "      <td>6.01</td>\n",
              "      <td>Não fidelizado</td>\n",
              "    </tr>\n",
              "    <tr>\n",
              "      <th>4</th>\n",
              "      <td>NaN</td>\n",
              "      <td>11.45</td>\n",
              "      <td>NaN</td>\n",
              "      <td>Não fidelizado</td>\n",
              "    </tr>\n",
              "    <tr>\n",
              "      <th>5</th>\n",
              "      <td>6.92</td>\n",
              "      <td>5.73</td>\n",
              "      <td>4.88</td>\n",
              "      <td>Não fidelizado</td>\n",
              "    </tr>\n",
              "    <tr>\n",
              "      <th>6</th>\n",
              "      <td>13.84</td>\n",
              "      <td>11.45</td>\n",
              "      <td>0.83</td>\n",
              "      <td>Não fidelizado</td>\n",
              "    </tr>\n",
              "  </tbody>\n",
              "</table>\n",
              "</div>\n",
              "      <button class=\"colab-df-convert\" onclick=\"convertToInteractive('df-2a76da38-35c0-44be-8a97-a10ee376c69d')\"\n",
              "              title=\"Convert this dataframe to an interactive table.\"\n",
              "              style=\"display:none;\">\n",
              "        \n",
              "  <svg xmlns=\"http://www.w3.org/2000/svg\" height=\"24px\"viewBox=\"0 0 24 24\"\n",
              "       width=\"24px\">\n",
              "    <path d=\"M0 0h24v24H0V0z\" fill=\"none\"/>\n",
              "    <path d=\"M18.56 5.44l.94 2.06.94-2.06 2.06-.94-2.06-.94-.94-2.06-.94 2.06-2.06.94zm-11 1L8.5 8.5l.94-2.06 2.06-.94-2.06-.94L8.5 2.5l-.94 2.06-2.06.94zm10 10l.94 2.06.94-2.06 2.06-.94-2.06-.94-.94-2.06-.94 2.06-2.06.94z\"/><path d=\"M17.41 7.96l-1.37-1.37c-.4-.4-.92-.59-1.43-.59-.52 0-1.04.2-1.43.59L10.3 9.45l-7.72 7.72c-.78.78-.78 2.05 0 2.83L4 21.41c.39.39.9.59 1.41.59.51 0 1.02-.2 1.41-.59l7.78-7.78 2.81-2.81c.8-.78.8-2.07 0-2.86zM5.41 20L4 18.59l7.72-7.72 1.47 1.35L5.41 20z\"/>\n",
              "  </svg>\n",
              "      </button>\n",
              "      \n",
              "  <style>\n",
              "    .colab-df-container {\n",
              "      display:flex;\n",
              "      flex-wrap:wrap;\n",
              "      gap: 12px;\n",
              "    }\n",
              "\n",
              "    .colab-df-convert {\n",
              "      background-color: #E8F0FE;\n",
              "      border: none;\n",
              "      border-radius: 50%;\n",
              "      cursor: pointer;\n",
              "      display: none;\n",
              "      fill: #1967D2;\n",
              "      height: 32px;\n",
              "      padding: 0 0 0 0;\n",
              "      width: 32px;\n",
              "    }\n",
              "\n",
              "    .colab-df-convert:hover {\n",
              "      background-color: #E2EBFA;\n",
              "      box-shadow: 0px 1px 2px rgba(60, 64, 67, 0.3), 0px 1px 3px 1px rgba(60, 64, 67, 0.15);\n",
              "      fill: #174EA6;\n",
              "    }\n",
              "\n",
              "    [theme=dark] .colab-df-convert {\n",
              "      background-color: #3B4455;\n",
              "      fill: #D2E3FC;\n",
              "    }\n",
              "\n",
              "    [theme=dark] .colab-df-convert:hover {\n",
              "      background-color: #434B5C;\n",
              "      box-shadow: 0px 1px 3px 1px rgba(0, 0, 0, 0.15);\n",
              "      filter: drop-shadow(0px 1px 2px rgba(0, 0, 0, 0.3));\n",
              "      fill: #FFFFFF;\n",
              "    }\n",
              "  </style>\n",
              "\n",
              "      <script>\n",
              "        const buttonEl =\n",
              "          document.querySelector('#df-2a76da38-35c0-44be-8a97-a10ee376c69d button.colab-df-convert');\n",
              "        buttonEl.style.display =\n",
              "          google.colab.kernel.accessAllowed ? 'block' : 'none';\n",
              "\n",
              "        async function convertToInteractive(key) {\n",
              "          const element = document.querySelector('#df-2a76da38-35c0-44be-8a97-a10ee376c69d');\n",
              "          const dataTable =\n",
              "            await google.colab.kernel.invokeFunction('convertToInteractive',\n",
              "                                                     [key], {});\n",
              "          if (!dataTable) return;\n",
              "\n",
              "          const docLinkHtml = 'Like what you see? Visit the ' +\n",
              "            '<a target=\"_blank\" href=https://colab.research.google.com/notebooks/data_table.ipynb>data table notebook</a>'\n",
              "            + ' to learn more about interactive tables.';\n",
              "          element.innerHTML = '';\n",
              "          dataTable['output_type'] = 'display_data';\n",
              "          await google.colab.output.renderOutput(dataTable, element);\n",
              "          const docLink = document.createElement('div');\n",
              "          docLink.innerHTML = docLinkHtml;\n",
              "          element.appendChild(docLink);\n",
              "        }\n",
              "      </script>\n",
              "    </div>\n",
              "  </div>\n",
              "  "
            ]
          },
          "metadata": {},
          "execution_count": 15
        }
      ]
    },
    {
      "cell_type": "markdown",
      "source": [
        "Devido ao tamanho pequeno do dataset, foi possível observar visualmente uma diferença significativa nos valores do atributo \"nota 2\". Esse atributo apresentava uma amplitude de valores que ia de 5,73 a 57,27, sendo essa amplitude desproporcional em relação aos outros valores presentes na mesma coluna, que, com exceção do valor 57, não ultrapassavam o valor 23."
      ],
      "metadata": {
        "id": "M-hU2_agGV1P"
      }
    },
    {
      "cell_type": "markdown",
      "source": [
        "# Analíse Descritiva:"
      ],
      "metadata": {
        "id": "ISnM_ULaGdr3"
      }
    },
    {
      "cell_type": "code",
      "source": [
        "#Verifica as informações básicas do conjunto de dados usando o método info() do pandas. Isso inclui o número de entradas, número de colunas, tipos de dados, etc.\n",
        "\n",
        "dados.info()\n"
      ],
      "metadata": {
        "colab": {
          "base_uri": "https://localhost:8080/"
        },
        "id": "ZmZRRwcQ2K1V",
        "outputId": "373cdc6e-b056-4b25-a9a7-7e118475a810"
      },
      "execution_count": null,
      "outputs": [
        {
          "output_type": "stream",
          "name": "stdout",
          "text": [
            "<class 'pandas.core.frame.DataFrame'>\n",
            "RangeIndex: 7 entries, 0 to 6\n",
            "Data columns (total 4 columns):\n",
            " #   Column    Non-Null Count  Dtype  \n",
            "---  ------    --------------  -----  \n",
            " 0   Nota 1    5 non-null      float64\n",
            " 1   Nota 2    7 non-null      float64\n",
            " 2   Nota 3    5 non-null      float64\n",
            " 3   Situação  7 non-null      object \n",
            "dtypes: float64(3), object(1)\n",
            "memory usage: 352.0+ bytes\n"
          ]
        }
      ]
    },
    {
      "cell_type": "code",
      "source": [
        "#Verifica as medidas de posição e separatrizes e as medidas de dispersão usando o método describe() do pandas. Isso inclui a contagem, média, desvio padrão, mínimo, quartis e máximo para cada coluna.\n",
        "\n",
        "dados.describe()"
      ],
      "metadata": {
        "colab": {
          "base_uri": "https://localhost:8080/",
          "height": 300
        },
        "id": "v3HYhWHW2cFQ",
        "outputId": "be9f3986-2129-470f-b750-3a9f54ef1955"
      },
      "execution_count": null,
      "outputs": [
        {
          "output_type": "execute_result",
          "data": {
            "text/plain": [
              "          Nota 1     Nota 2    Nota 3\n",
              "count   5.000000   7.000000  5.000000\n",
              "mean    9.412000  15.544286  3.126000\n",
              "std     3.302873   6.373188  2.221268\n",
              "min     5.540000   5.730000  0.830000\n",
              "25%     6.920000  11.450000  1.550000\n",
              "50%     9.690000  17.180000  2.360000\n",
              "75%    11.070000  20.045000  4.880000\n",
              "max    13.840000  22.910000  6.010000"
            ],
            "text/html": [
              "\n",
              "  <div id=\"df-dce1849f-54a2-4804-8cfb-bb46ed780dc5\">\n",
              "    <div class=\"colab-df-container\">\n",
              "      <div>\n",
              "<style scoped>\n",
              "    .dataframe tbody tr th:only-of-type {\n",
              "        vertical-align: middle;\n",
              "    }\n",
              "\n",
              "    .dataframe tbody tr th {\n",
              "        vertical-align: top;\n",
              "    }\n",
              "\n",
              "    .dataframe thead th {\n",
              "        text-align: right;\n",
              "    }\n",
              "</style>\n",
              "<table border=\"1\" class=\"dataframe\">\n",
              "  <thead>\n",
              "    <tr style=\"text-align: right;\">\n",
              "      <th></th>\n",
              "      <th>Nota 1</th>\n",
              "      <th>Nota 2</th>\n",
              "      <th>Nota 3</th>\n",
              "    </tr>\n",
              "  </thead>\n",
              "  <tbody>\n",
              "    <tr>\n",
              "      <th>count</th>\n",
              "      <td>5.000000</td>\n",
              "      <td>7.000000</td>\n",
              "      <td>5.000000</td>\n",
              "    </tr>\n",
              "    <tr>\n",
              "      <th>mean</th>\n",
              "      <td>9.412000</td>\n",
              "      <td>15.544286</td>\n",
              "      <td>3.126000</td>\n",
              "    </tr>\n",
              "    <tr>\n",
              "      <th>std</th>\n",
              "      <td>3.302873</td>\n",
              "      <td>6.373188</td>\n",
              "      <td>2.221268</td>\n",
              "    </tr>\n",
              "    <tr>\n",
              "      <th>min</th>\n",
              "      <td>5.540000</td>\n",
              "      <td>5.730000</td>\n",
              "      <td>0.830000</td>\n",
              "    </tr>\n",
              "    <tr>\n",
              "      <th>25%</th>\n",
              "      <td>6.920000</td>\n",
              "      <td>11.450000</td>\n",
              "      <td>1.550000</td>\n",
              "    </tr>\n",
              "    <tr>\n",
              "      <th>50%</th>\n",
              "      <td>9.690000</td>\n",
              "      <td>17.180000</td>\n",
              "      <td>2.360000</td>\n",
              "    </tr>\n",
              "    <tr>\n",
              "      <th>75%</th>\n",
              "      <td>11.070000</td>\n",
              "      <td>20.045000</td>\n",
              "      <td>4.880000</td>\n",
              "    </tr>\n",
              "    <tr>\n",
              "      <th>max</th>\n",
              "      <td>13.840000</td>\n",
              "      <td>22.910000</td>\n",
              "      <td>6.010000</td>\n",
              "    </tr>\n",
              "  </tbody>\n",
              "</table>\n",
              "</div>\n",
              "      <button class=\"colab-df-convert\" onclick=\"convertToInteractive('df-dce1849f-54a2-4804-8cfb-bb46ed780dc5')\"\n",
              "              title=\"Convert this dataframe to an interactive table.\"\n",
              "              style=\"display:none;\">\n",
              "        \n",
              "  <svg xmlns=\"http://www.w3.org/2000/svg\" height=\"24px\"viewBox=\"0 0 24 24\"\n",
              "       width=\"24px\">\n",
              "    <path d=\"M0 0h24v24H0V0z\" fill=\"none\"/>\n",
              "    <path d=\"M18.56 5.44l.94 2.06.94-2.06 2.06-.94-2.06-.94-.94-2.06-.94 2.06-2.06.94zm-11 1L8.5 8.5l.94-2.06 2.06-.94-2.06-.94L8.5 2.5l-.94 2.06-2.06.94zm10 10l.94 2.06.94-2.06 2.06-.94-2.06-.94-.94-2.06-.94 2.06-2.06.94z\"/><path d=\"M17.41 7.96l-1.37-1.37c-.4-.4-.92-.59-1.43-.59-.52 0-1.04.2-1.43.59L10.3 9.45l-7.72 7.72c-.78.78-.78 2.05 0 2.83L4 21.41c.39.39.9.59 1.41.59.51 0 1.02-.2 1.41-.59l7.78-7.78 2.81-2.81c.8-.78.8-2.07 0-2.86zM5.41 20L4 18.59l7.72-7.72 1.47 1.35L5.41 20z\"/>\n",
              "  </svg>\n",
              "      </button>\n",
              "      \n",
              "  <style>\n",
              "    .colab-df-container {\n",
              "      display:flex;\n",
              "      flex-wrap:wrap;\n",
              "      gap: 12px;\n",
              "    }\n",
              "\n",
              "    .colab-df-convert {\n",
              "      background-color: #E8F0FE;\n",
              "      border: none;\n",
              "      border-radius: 50%;\n",
              "      cursor: pointer;\n",
              "      display: none;\n",
              "      fill: #1967D2;\n",
              "      height: 32px;\n",
              "      padding: 0 0 0 0;\n",
              "      width: 32px;\n",
              "    }\n",
              "\n",
              "    .colab-df-convert:hover {\n",
              "      background-color: #E2EBFA;\n",
              "      box-shadow: 0px 1px 2px rgba(60, 64, 67, 0.3), 0px 1px 3px 1px rgba(60, 64, 67, 0.15);\n",
              "      fill: #174EA6;\n",
              "    }\n",
              "\n",
              "    [theme=dark] .colab-df-convert {\n",
              "      background-color: #3B4455;\n",
              "      fill: #D2E3FC;\n",
              "    }\n",
              "\n",
              "    [theme=dark] .colab-df-convert:hover {\n",
              "      background-color: #434B5C;\n",
              "      box-shadow: 0px 1px 3px 1px rgba(0, 0, 0, 0.15);\n",
              "      filter: drop-shadow(0px 1px 2px rgba(0, 0, 0, 0.3));\n",
              "      fill: #FFFFFF;\n",
              "    }\n",
              "  </style>\n",
              "\n",
              "      <script>\n",
              "        const buttonEl =\n",
              "          document.querySelector('#df-dce1849f-54a2-4804-8cfb-bb46ed780dc5 button.colab-df-convert');\n",
              "        buttonEl.style.display =\n",
              "          google.colab.kernel.accessAllowed ? 'block' : 'none';\n",
              "\n",
              "        async function convertToInteractive(key) {\n",
              "          const element = document.querySelector('#df-dce1849f-54a2-4804-8cfb-bb46ed780dc5');\n",
              "          const dataTable =\n",
              "            await google.colab.kernel.invokeFunction('convertToInteractive',\n",
              "                                                     [key], {});\n",
              "          if (!dataTable) return;\n",
              "\n",
              "          const docLinkHtml = 'Like what you see? Visit the ' +\n",
              "            '<a target=\"_blank\" href=https://colab.research.google.com/notebooks/data_table.ipynb>data table notebook</a>'\n",
              "            + ' to learn more about interactive tables.';\n",
              "          element.innerHTML = '';\n",
              "          dataTable['output_type'] = 'display_data';\n",
              "          await google.colab.output.renderOutput(dataTable, element);\n",
              "          const docLink = document.createElement('div');\n",
              "          docLink.innerHTML = docLinkHtml;\n",
              "          element.appendChild(docLink);\n",
              "        }\n",
              "      </script>\n",
              "    </div>\n",
              "  </div>\n",
              "  "
            ]
          },
          "metadata": {},
          "execution_count": 18
        }
      ]
    },
    {
      "cell_type": "code",
      "source": [
        "# selecionando apenas as colunas numéricas\n",
        "numeric_cols = dados.select_dtypes(include=['float', 'int']).columns\n",
        "\n",
        "# calculando as médias\n",
        "means = dados[numeric_cols].mean()\n",
        "\n",
        "# imprimindo as médias\n",
        "print(means)"
      ],
      "metadata": {
        "colab": {
          "base_uri": "https://localhost:8080/"
        },
        "id": "ajpWxX2NG2a_",
        "outputId": "6c278218-26d6-4f2e-8c49-9637199d1453"
      },
      "execution_count": null,
      "outputs": [
        {
          "output_type": "stream",
          "name": "stdout",
          "text": [
            "Nota 1     9.412000\n",
            "Nota 2    15.544286\n",
            "Nota 3     3.126000\n",
            "dtype: float64\n"
          ]
        }
      ]
    },
    {
      "cell_type": "markdown",
      "source": [
        "Ao analisarmos as médias, podemos observar que a \"nota 2\" apresentou um valor bastante elevado, enquanto a \"nota 3\" teve uma queda brusca. Com base nisso, podemos formular a hipótese de que durante o período de coleta da \"nota 3\", houve alguma mudança ou fator que influenciou diretamente esse resultado."
      ],
      "metadata": {
        "id": "JhlfXKW6Hshs"
      }
    },
    {
      "cell_type": "code",
      "source": [
        "#Projeta gráficos do tipo histograma e boxplot usando o método hist() e boxplot() do pandas.\n",
        "\n",
        "dados.hist()\n",
        "dados.boxplot()"
      ],
      "metadata": {
        "colab": {
          "base_uri": "https://localhost:8080/",
          "height": 472
        },
        "id": "AMtE-n-W2rgQ",
        "outputId": "01bd11ed-00a0-4e41-c486-bd6838e13982"
      },
      "execution_count": null,
      "outputs": [
        {
          "output_type": "execute_result",
          "data": {
            "text/plain": [
              "<Axes: >"
            ]
          },
          "metadata": {},
          "execution_count": 4
        },
        {
          "output_type": "display_data",
          "data": {
            "text/plain": [
              "<Figure size 640x480 with 4 Axes>"
            ],
            "image/png": "[encoded data removed]"
          },
          "metadata": {}
        }
      ]
    },
    {
      "cell_type": "code",
      "source": [
        "dados.describe(include=\"object\")\n"
      ],
      "metadata": {
        "colab": {
          "base_uri": "https://localhost:8080/",
          "height": 175
        },
        "id": "w82CFp7tI9uf",
        "outputId": "04daa7cb-782e-4055-e6a0-cb072ec482ae"
      },
      "execution_count": null,
      "outputs": [
        {
          "output_type": "execute_result",
          "data": {
            "text/plain": [
              "              Situação\n",
              "count                7\n",
              "unique               2\n",
              "top     Não fidelizado\n",
              "freq                 4"
            ],
            "text/html": [
              "\n",
              "  <div id=\"df-f2fec4d6-0452-4e52-a785-27aeb78867f5\">\n",
              "    <div class=\"colab-df-container\">\n",
              "      <div>\n",
              "<style scoped>\n",
              "    .dataframe tbody tr th:only-of-type {\n",
              "        vertical-align: middle;\n",
              "    }\n",
              "\n",
              "    .dataframe tbody tr th {\n",
              "        vertical-align: top;\n",
              "    }\n",
              "\n",
              "    .dataframe thead th {\n",
              "        text-align: right;\n",
              "    }\n",
              "</style>\n",
              "<table border=\"1\" class=\"dataframe\">\n",
              "  <thead>\n",
              "    <tr style=\"text-align: right;\">\n",
              "      <th></th>\n",
              "      <th>Situação</th>\n",
              "    </tr>\n",
              "  </thead>\n",
              "  <tbody>\n",
              "    <tr>\n",
              "      <th>count</th>\n",
              "      <td>7</td>\n",
              "    </tr>\n",
              "    <tr>\n",
              "      <th>unique</th>\n",
              "      <td>2</td>\n",
              "    </tr>\n",
              "    <tr>\n",
              "      <th>top</th>\n",
              "      <td>Não fidelizado</td>\n",
              "    </tr>\n",
              "    <tr>\n",
              "      <th>freq</th>\n",
              "      <td>4</td>\n",
              "    </tr>\n",
              "  </tbody>\n",
              "</table>\n",
              "</div>\n",
              "      <button class=\"colab-df-convert\" onclick=\"convertToInteractive('df-f2fec4d6-0452-4e52-a785-27aeb78867f5')\"\n",
              "              title=\"Convert this dataframe to an interactive table.\"\n",
              "              style=\"display:none;\">\n",
              "        \n",
              "  <svg xmlns=\"http://www.w3.org/2000/svg\" height=\"24px\"viewBox=\"0 0 24 24\"\n",
              "       width=\"24px\">\n",
              "    <path d=\"M0 0h24v24H0V0z\" fill=\"none\"/>\n",
              "    <path d=\"M18.56 5.44l.94 2.06.94-2.06 2.06-.94-2.06-.94-.94-2.06-.94 2.06-2.06.94zm-11 1L8.5 8.5l.94-2.06 2.06-.94-2.06-.94L8.5 2.5l-.94 2.06-2.06.94zm10 10l.94 2.06.94-2.06 2.06-.94-2.06-.94-.94-2.06-.94 2.06-2.06.94z\"/><path d=\"M17.41 7.96l-1.37-1.37c-.4-.4-.92-.59-1.43-.59-.52 0-1.04.2-1.43.59L10.3 9.45l-7.72 7.72c-.78.78-.78 2.05 0 2.83L4 21.41c.39.39.9.59 1.41.59.51 0 1.02-.2 1.41-.59l7.78-7.78 2.81-2.81c.8-.78.8-2.07 0-2.86zM5.41 20L4 18.59l7.72-7.72 1.47 1.35L5.41 20z\"/>\n",
              "  </svg>\n",
              "      </button>\n",
              "      \n",
              "  <style>\n",
              "    .colab-df-container {\n",
              "      display:flex;\n",
              "      flex-wrap:wrap;\n",
              "      gap: 12px;\n",
              "    }\n",
              "\n",
              "    .colab-df-convert {\n",
              "      background-color: #E8F0FE;\n",
              "      border: none;\n",
              "      border-radius: 50%;\n",
              "      cursor: pointer;\n",
              "      display: none;\n",
              "      fill: #1967D2;\n",
              "      height: 32px;\n",
              "      padding: 0 0 0 0;\n",
              "      width: 32px;\n",
              "    }\n",
              "\n",
              "    .colab-df-convert:hover {\n",
              "      background-color: #E2EBFA;\n",
              "      box-shadow: 0px 1px 2px rgba(60, 64, 67, 0.3), 0px 1px 3px 1px rgba(60, 64, 67, 0.15);\n",
              "      fill: #174EA6;\n",
              "    }\n",
              "\n",
              "    [theme=dark] .colab-df-convert {\n",
              "      background-color: #3B4455;\n",
              "      fill: #D2E3FC;\n",
              "    }\n",
              "\n",
              "    [theme=dark] .colab-df-convert:hover {\n",
              "      background-color: #434B5C;\n",
              "      box-shadow: 0px 1px 3px 1px rgba(0, 0, 0, 0.15);\n",
              "      filter: drop-shadow(0px 1px 2px rgba(0, 0, 0, 0.3));\n",
              "      fill: #FFFFFF;\n",
              "    }\n",
              "  </style>\n",
              "\n",
              "      <script>\n",
              "        const buttonEl =\n",
              "          document.querySelector('#df-f2fec4d6-0452-4e52-a785-27aeb78867f5 button.colab-df-convert');\n",
              "        buttonEl.style.display =\n",
              "          google.colab.kernel.accessAllowed ? 'block' : 'none';\n",
              "\n",
              "        async function convertToInteractive(key) {\n",
              "          const element = document.querySelector('#df-f2fec4d6-0452-4e52-a785-27aeb78867f5');\n",
              "          const dataTable =\n",
              "            await google.colab.kernel.invokeFunction('convertToInteractive',\n",
              "                                                     [key], {});\n",
              "          if (!dataTable) return;\n",
              "\n",
              "          const docLinkHtml = 'Like what you see? Visit the ' +\n",
              "            '<a target=\"_blank\" href=https://colab.research.google.com/notebooks/data_table.ipynb>data table notebook</a>'\n",
              "            + ' to learn more about interactive tables.';\n",
              "          element.innerHTML = '';\n",
              "          dataTable['output_type'] = 'display_data';\n",
              "          await google.colab.output.renderOutput(dataTable, element);\n",
              "          const docLink = document.createElement('div');\n",
              "          docLink.innerHTML = docLinkHtml;\n",
              "          element.appendChild(docLink);\n",
              "        }\n",
              "      </script>\n",
              "    </div>\n",
              "  </div>\n",
              "  "
            ]
          },
          "metadata": {},
          "execution_count": 21
        }
      ]
    },
    {
      "cell_type": "code",
      "source": [
        "#Realiza a análise de correlação usando o método corr() do pandas. Isso mostra a correlação entre cada par de colunas. \n",
        "dados.corr()"
      ],
      "metadata": {
        "colab": {
          "base_uri": "https://localhost:8080/",
          "height": 198
        },
        "id": "fO6Q9-dv20ST",
        "outputId": "2b795dea-a94a-40b4-c2f2-2f8ef615c541"
      },
      "execution_count": null,
      "outputs": [
        {
          "output_type": "stream",
          "name": "stderr",
          "text": [
            "<ipython-input-5-6e5206cff6cc>:3: FutureWarning: The default value of numeric_only in DataFrame.corr is deprecated. In a future version, it will default to False. Select only valid columns or specify the value of numeric_only to silence this warning.\n",
            "  dados.corr()\n"
          ]
        },
        {
          "output_type": "execute_result",
          "data": {
            "text/plain": [
              "             AVALIAÇÃO 1  AVALIAÇÃO 2  AVALIAÇÃO 3\n",
              "AVALIAÇÃO 1     1.000000    -0.112387    -0.859475\n",
              "AVALIAÇÃO 2    -0.112387     1.000000     0.422590\n",
              "AVALIAÇÃO 3    -0.859475     0.422590     1.000000"
            ],
            "text/html": [
              "\n",
              "  <div id=\"df-c8be5fda-62ac-4275-b5c4-c217733ffbd6\">\n",
              "    <div class=\"colab-df-container\">\n",
              "      <div>\n",
              "<style scoped>\n",
              "    .dataframe tbody tr th:only-of-type {\n",
              "        vertical-align: middle;\n",
              "    }\n",
              "\n",
              "    .dataframe tbody tr th {\n",
              "        vertical-align: top;\n",
              "    }\n",
              "\n",
              "    .dataframe thead th {\n",
              "        text-align: right;\n",
              "    }\n",
              "</style>\n",
              "<table border=\"1\" class=\"dataframe\">\n",
              "  <thead>\n",
              "    <tr style=\"text-align: right;\">\n",
              "      <th></th>\n",
              "      <th>AVALIAÇÃO 1</th>\n",
              "      <th>AVALIAÇÃO 2</th>\n",
              "      <th>AVALIAÇÃO 3</th>\n",
              "    </tr>\n",
              "  </thead>\n",
              "  <tbody>\n",
              "    <tr>\n",
              "      <th>AVALIAÇÃO 1</th>\n",
              "      <td>1.000000</td>\n",
              "      <td>-0.112387</td>\n",
              "      <td>-0.859475</td>\n",
              "    </tr>\n",
              "    <tr>\n",
              "      <th>AVALIAÇÃO 2</th>\n",
              "      <td>-0.112387</td>\n",
              "      <td>1.000000</td>\n",
              "      <td>0.422590</td>\n",
              "    </tr>\n",
              "    <tr>\n",
              "      <th>AVALIAÇÃO 3</th>\n",
              "      <td>-0.859475</td>\n",
              "      <td>0.422590</td>\n",
              "      <td>1.000000</td>\n",
              "    </tr>\n",
              "  </tbody>\n",
              "</table>\n",
              "</div>\n",
              "      <button class=\"colab-df-convert\" onclick=\"convertToInteractive('df-c8be5fda-62ac-4275-b5c4-c217733ffbd6')\"\n",
              "              title=\"Convert this dataframe to an interactive table.\"\n",
              "              style=\"display:none;\">\n",
              "        \n",
              "  <svg xmlns=\"http://www.w3.org/2000/svg\" height=\"24px\"viewBox=\"0 0 24 24\"\n",
              "       width=\"24px\">\n",
              "    <path d=\"M0 0h24v24H0V0z\" fill=\"none\"/>\n",
              "    <path d=\"M18.56 5.44l.94 2.06.94-2.06 2.06-.94-2.06-.94-.94-2.06-.94 2.06-2.06.94zm-11 1L8.5 8.5l.94-2.06 2.06-.94-2.06-.94L8.5 2.5l-.94 2.06-2.06.94zm10 10l.94 2.06.94-2.06 2.06-.94-2.06-.94-.94-2.06-.94 2.06-2.06.94z\"/><path d=\"M17.41 7.96l-1.37-1.37c-.4-.4-.92-.59-1.43-.59-.52 0-1.04.2-1.43.59L10.3 9.45l-7.72 7.72c-.78.78-.78 2.05 0 2.83L4 21.41c.39.39.9.59 1.41.59.51 0 1.02-.2 1.41-.59l7.78-7.78 2.81-2.81c.8-.78.8-2.07 0-2.86zM5.41 20L4 18.59l7.72-7.72 1.47 1.35L5.41 20z\"/>\n",
              "  </svg>\n",
              "      </button>\n",
              "      \n",
              "  <style>\n",
              "    .colab-df-container {\n",
              "      display:flex;\n",
              "      flex-wrap:wrap;\n",
              "      gap: 12px;\n",
              "    }\n",
              "\n",
              "    .colab-df-convert {\n",
              "      background-color: #E8F0FE;\n",
              "      border: none;\n",
              "      border-radius: 50%;\n",
              "      cursor: pointer;\n",
              "      display: none;\n",
              "      fill: #1967D2;\n",
              "      height: 32px;\n",
              "      padding: 0 0 0 0;\n",
              "      width: 32px;\n",
              "    }\n",
              "\n",
              "    .colab-df-convert:hover {\n",
              "      background-color: #E2EBFA;\n",
              "      box-shadow: 0px 1px 2px rgba(60, 64, 67, 0.3), 0px 1px 3px 1px rgba(60, 64, 67, 0.15);\n",
              "      fill: #174EA6;\n",
              "    }\n",
              "\n",
              "    [theme=dark] .colab-df-convert {\n",
              "      background-color: #3B4455;\n",
              "      fill: #D2E3FC;\n",
              "    }\n",
              "\n",
              "    [theme=dark] .colab-df-convert:hover {\n",
              "      background-color: #434B5C;\n",
              "      box-shadow: 0px 1px 3px 1px rgba(0, 0, 0, 0.15);\n",
              "      filter: drop-shadow(0px 1px 2px rgba(0, 0, 0, 0.3));\n",
              "      fill: #FFFFFF;\n",
              "    }\n",
              "  </style>\n",
              "\n",
              "      <script>\n",
              "        const buttonEl =\n",
              "          document.querySelector('#df-c8be5fda-62ac-4275-b5c4-c217733ffbd6 button.colab-df-convert');\n",
              "        buttonEl.style.display =\n",
              "          google.colab.kernel.accessAllowed ? 'block' : 'none';\n",
              "\n",
              "        async function convertToInteractive(key) {\n",
              "          const element = document.querySelector('#df-c8be5fda-62ac-4275-b5c4-c217733ffbd6');\n",
              "          const dataTable =\n",
              "            await google.colab.kernel.invokeFunction('convertToInteractive',\n",
              "                                                     [key], {});\n",
              "          if (!dataTable) return;\n",
              "\n",
              "          const docLinkHtml = 'Like what you see? Visit the ' +\n",
              "            '<a target=\"_blank\" href=https://colab.research.google.com/notebooks/data_table.ipynb>data table notebook</a>'\n",
              "            + ' to learn more about interactive tables.';\n",
              "          element.innerHTML = '';\n",
              "          dataTable['output_type'] = 'display_data';\n",
              "          await google.colab.output.renderOutput(dataTable, element);\n",
              "          const docLink = document.createElement('div');\n",
              "          docLink.innerHTML = docLinkHtml;\n",
              "          element.appendChild(docLink);\n",
              "        }\n",
              "      </script>\n",
              "    </div>\n",
              "  </div>\n",
              "  "
            ]
          },
          "metadata": {},
          "execution_count": 5
        }
      ]
    },
    {
      "cell_type": "markdown",
      "source": [
        "# Limpando data base:"
      ],
      "metadata": {
        "id": "dqJFDE4qKhiG"
      }
    },
    {
      "cell_type": "markdown",
      "source": [
        "Ao utilizar a função isna() no dataset, identificamos a presença de valores faltantes que podem levar a erros de interpretação dos dados no futuro. Como o dataset possui apenas 7 amostras, optei por substituir os valores faltantes das notas pela média da respectiva coluna, a fim de evitar lacunas nos dados e não perder informações importantes fornecidas pelos clientes."
      ],
      "metadata": {
        "id": "Z3i3ZvvlLH-3"
      }
    },
    {
      "cell_type": "code",
      "source": [
        "# Esse código retorna a contagem de valores nulos em cada coluna do DataFrame dados, ordenando do menor para o maior número de valores nulos.\n",
        "dados.isna().sum().sort_values(ascending=False)"
      ],
      "metadata": {
        "colab": {
          "base_uri": "https://localhost:8080/"
        },
        "id": "t4Y2whkUKqM_",
        "outputId": "7cf2b35f-4221-4d96-98e4-903adb416000"
      },
      "execution_count": null,
      "outputs": [
        {
          "output_type": "execute_result",
          "data": {
            "text/plain": [
              "Nota 1      2\n",
              "Nota 3      2\n",
              "Nota 2      0\n",
              "Situação    0\n",
              "dtype: int64"
            ]
          },
          "metadata": {},
          "execution_count": 23
        }
      ]
    },
    {
      "cell_type": "code",
      "source": [
        "\n",
        "dados['Situação'] = dados['Situação'].replace({'Fidelizado': 1, 'Não fidelizado': 0})\n"
      ],
      "metadata": {
        "id": "Z8m_5ocxLjAR"
      },
      "execution_count": null,
      "outputs": []
    },
    {
      "cell_type": "code",
      "source": [
        "# Analisando o Balance\n",
        "Fiel, esporadico = dados[\"Situação\"].value_counts()"
      ],
      "metadata": {
        "id": "KNYY4Ro8LnnB"
      },
      "execution_count": null,
      "outputs": []
    },
    {
      "cell_type": "markdown",
      "source": [
        "## Clientes fidelizados e não fidelizados "
      ],
      "metadata": {
        "id": "1qdEvHIiLw4f"
      }
    },
    {
      "cell_type": "code",
      "source": [
        "\n",
        "# Mostrando graficamente a diferença entre tipos de um mesmo atributo:\n",
        "\n",
        "# Dados de exemplo\n",
        "valores = ['Fidelizado', 'Não fidelizado']\n",
        "contagem = [Fiel, esporadico]\n",
        "\n",
        "# Configuração do gráfico de barras\n",
        "plt.bar(valores, contagem)\n",
        "plt.title('Quantidade de Casos')\n",
        "plt.xlabel('Tipo do Cliente')\n",
        "plt.ylabel('Quantidade')\n",
        "\n",
        "# Exibição do gráfico\n",
        "plt.show()"
      ],
      "metadata": {
        "colab": {
          "base_uri": "https://localhost:8080/",
          "height": 472
        },
        "id": "_lYEZGjpLtuv",
        "outputId": "ff0dd38a-c69b-45f1-bcc3-99be96c33de9"
      },
      "execution_count": null,
      "outputs": [
        {
          "output_type": "display_data",
          "data": {
            "text/plain": [
              "<Figure size 640x480 with 1 Axes>"
            ],
            "image/png": "[encoded data removed]"
          },
          "metadata": {}
        }
      ]
    },
    {
      "cell_type": "code",
      "source": [
        "# itera sobre as colunas do DataFrame\n",
        "for coluna in df.columns[:3]:\n",
        "  # gera o gráfico de barras\n",
        "  plt.figure()\n",
        "  df[coluna].plot(kind='bar')\n",
        "  plt.title(coluna)\n",
        "  plt.show()"
      ],
      "metadata": {
        "colab": {
          "base_uri": "https://localhost:8080/",
          "height": 1000
        },
        "id": "C13IGw-GN3JY",
        "outputId": "89e5df7f-1a7b-4eff-857a-9e44017f74c3"
      },
      "execution_count": null,
      "outputs": [
        {
          "output_type": "display_data",
          "data": {
            "text/plain": [
              "<Figure size 640x480 with 1 Axes>"
            ],
            "image/png": "[encoded data removed]"
          },
          "metadata": {}
        },
        {
          "output_type": "display_data",
          "data": {
            "text/plain": [
              "<Figure size 640x480 with 1 Axes>"
            ],
            "image/png": "[encoded data removed]"
          },
          "metadata": {}
        },
        {
          "output_type": "display_data",
          "data": {
            "text/plain": [
              "<Figure size 640x480 with 1 Axes>"
            ],
            "image/png": "[encoded data removed]"
          },
          "metadata": {}
        }
      ]
    },
    {
      "cell_type": "code",
      "source": [
        "\n",
        "# Boxplot\n",
        "sns.boxplot(data=df)\n",
        "plt.show()\n"
      ],
      "metadata": {
        "colab": {
          "base_uri": "https://localhost:8080/",
          "height": 437
        },
        "id": "QpH9dEYOgh3K",
        "outputId": "8635a517-87c7-4b48-ff38-3e5c87e4b140"
      },
      "execution_count": null,
      "outputs": [
        {
          "output_type": "display_data",
          "data": {
            "text/plain": [
              "<Figure size 640x480 with 1 Axes>"
            ],
            "image/png": "[encoded data removed]"
          },
          "metadata": {}
        }
      ]
    },
    {
      "cell_type": "code",
      "source": [
        "# Definindo o tamanho da figura\n",
        "plt.figure(figsize=(10, 10))\n",
        "\n",
        "# Criando um mapa de calor da matriz de correlação\n",
        "sns.heatmap(df.corr(), cmap='coolwarm', annot=True)\n",
        "\n",
        "plt.show()"
      ],
      "metadata": {
        "colab": {
          "base_uri": "https://localhost:8080/",
          "height": 893
        },
        "id": "GYTjbdFmgkMR",
        "outputId": "a7f7f3d7-699e-45eb-907a-f37f56c08748"
      },
      "execution_count": null,
      "outputs": [
        {
          "output_type": "stream",
          "name": "stderr",
          "text": [
            "<ipython-input-90-6ea214927f1d>:5: FutureWarning: The default value of numeric_only in DataFrame.corr is deprecated. In a future version, it will default to False. Select only valid columns or specify the value of numeric_only to silence this warning.\n",
            "  sns.heatmap(df.corr(), cmap='coolwarm', annot=True)\n"
          ]
        },
        {
          "output_type": "display_data",
          "data": {
            "text/plain": [
              "<Figure size 1000x1000 with 2 Axes>"
            ],
            "image/png": "[encoded data removed]"
          },
          "metadata": {}
        }
      ]
    },
    {
      "cell_type": "markdown",
      "source": [
        "Podemos observar que os públicos que avaliaram bem a qualidade do serviço/alimento na nota 1 não são necessariamente os mesmos que deram notas altas na nota 3. Isso sugere que temos um grupo de pessoas heterogêneo com preferências distintas. Além disso, notamos que as avaliações na nota 3 não foram tão elevadas como nas notas 1 ou 2. Nesse sentido, é importante que o gerente evite situações semelhantes àquela ocorrida durante o teste 3, caso ele queira aumentar a popularidade do restaurante entre os clientes."
      ],
      "metadata": {
        "id": "SVKwW0GbgqnR"
      }
    },
    {
      "cell_type": "markdown",
      "source": [
        "\n",
        "\n",
        "## PCA\n",
        "\n"
      ],
      "metadata": {
        "id": "Z9k03VEXP9yQ"
      }
    },
    {
      "cell_type": "code",
      "source": [
        "# Substituir os valores ausentes pela média de cada coluna\n",
        "df = dados.fillna(dados.mean())\n",
        "\n",
        "# Normalizar os dados\n",
        "v = (df - df.mean()) / df.std()\n",
        "\n",
        "# Criar o objeto PCA\n",
        "pca = PCA()\n",
        "\n",
        "# Aplicar o PCA nos dados normalizados\n",
        "pca.fit(df_normal)\n",
        "\n",
        "# Obter as componentes principais\n",
        "componentes_principais = pca.components_\n",
        "\n",
        "# Obter a variação explicada por cada componente principal\n",
        "var_explicada = pca.explained_variance_ratio_\n",
        "\n",
        "# Imprimir as componentes principais e a variação explicada por cada uma\n",
        "for i, componente in enumerate(componentes_principais):\n",
        "    print('Analise da coluna ' + df_normal.columns[i] + ':', var_explicada[i])\n",
        "    print()"
      ],
      "metadata": {
        "colab": {
          "base_uri": "https://localhost:8080/"
        },
        "id": "ETx725ZMQDio",
        "outputId": "a09ebc49-8d29-44b1-eec6-8c01c8aa4722"
      },
      "execution_count": null,
      "outputs": [
        {
          "output_type": "stream",
          "name": "stdout",
          "text": [
            "Analise da coluna Nota 1: 0.5823368376180075\n",
            "\n",
            "Analise da coluna Nota 2: 0.37047616685002016\n",
            "\n",
            "Analise da coluna Nota 3: 0.045239477268491285\n",
            "\n",
            "Analise da coluna Situação: 0.0019475182634810843\n",
            "\n"
          ]
        }
      ]
    },
    {
      "cell_type": "markdown",
      "source": [
        "Por fim, logo abaixo está a resposta da letra B\n",
        "\n",
        "b- Supondo que tarefas de mineração de dados precisam ser resolvidas\n",
        "sobre esse conjunto de dados, discorra sobre a necessidade de executar procedimentos de pré-processamento"
      ],
      "metadata": {
        "id": "iqAKZgRXlLCb"
      }
    },
    {
      "cell_type": "markdown",
      "source": [
        "Resposta: \n",
        "\n",
        "rocedimentos de pré-processamento são necessários na mineração de dados porque os dados brutos geralmente não estão prontos para serem analisados diretamente. Esses dados podem conter valores ausentes, inconsistências, variáveis irrelevantes ou em escalas diferentes, entre outros problemas.\n",
        "\n",
        "O pré-processamento envolve uma série de procedimentos para limpar, transformar e preparar os dados para análise, a fim de melhorar a qualidade dos resultados. Por exemplo, ao lidar com valores ausentes, pode-se remover as linhas ou colunas inteiras ou preencher os valores faltantes com uma média ou mediana dos valores existentes. Ao lidar com variáveis em escalas diferentes, pode-se normalizar os dados para que todas as variáveis estejam na mesma escala e unidade.\n",
        "\n",
        "Ao realizar procedimentos de pré-processamento, os dados se tornam mais precisos e adequados para serem analisados por algoritmos de mineração de dados. O pré-processamento também pode ajudar a reduzir o ruído e remover redundâncias nos dados, tornando-os mais fáceis de serem interpretados e utilizados para tomada de decisões.\n",
        "\n",
        "Em resumo, o pré-processamento é uma etapa essencial na mineração de dados, que deve ser executada antes da análise para garantir a qualidade dos resultados. Ele ajuda a transformar dados brutos em dados úteis e significativos, tornando a mineração de dados mais eficaz e útil para empresas e organizações."
      ],
      "metadata": {
        "id": "2G7wPX-fnaZh"
      }
    }
  ]
}